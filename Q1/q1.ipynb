{
 "cells": [
  {
   "cell_type": "code",
   "execution_count": 2,
   "id": "c4cf5cdb",
   "metadata": {},
   "outputs": [
    {
     "name": "stdout",
     "output_type": "stream",
     "text": [
      "Eigenvalues:  [-0.37228132  5.37228132]\n",
      "Eigenvectors:  [[-0.82456484 -0.41597356]\n",
      " [ 0.56576746 -0.90937671]] \n",
      "\n",
      "Determinant:  -2 \n",
      "\n",
      "Cross product:  [-3  6 -3] \n",
      "\n",
      "Solution:  [-1. -4.  3.]\n"
     ]
    }
   ],
   "source": [
    "import numpy as np\n",
    "\n",
    "def do():\n",
    "    arr = np.array([[1,2],\n",
    "                  [3,4]])\n",
    "    \n",
    "    eig_val, eig_vec = np.linalg.eig(arr)\n",
    "    print(\"Eigenvalues: \", eig_val)\n",
    "    print(\"Eigenvectors: \", eig_vec, \"\\n\")\n",
    "    \n",
    "    arr_det = int(np.linalg.det(arr))\n",
    "    print(\"Determinant: \", arr_det, \"\\n\")\n",
    "\n",
    "    vec1 = np.array([1,2,3])\n",
    "    vec2 = np.array([4,5,6])\n",
    "    \n",
    "    vec_cross =  np.cross(vec1, vec2)\n",
    "    print(\"Cross product: \", vec_cross, \"\\n\")\n",
    "\n",
    "    A = np.array([[1,2,-2],\n",
    "                 [2,1,-5,],\n",
    "                 [1,-4,1]])\n",
    "    b = np.array([-15,-21,18])\n",
    "    \n",
    "    x = np.linalg.inv(A).dot(b)\n",
    "    print(\"Solution: \", x)\n",
    "    \n",
    "if __name__ == '__main__':\n",
    "    do()"
   ]
  },
  {
   "cell_type": "code",
   "execution_count": null,
   "id": "331f6c3b",
   "metadata": {},
   "outputs": [],
   "source": []
  }
 ],
 "metadata": {
  "kernelspec": {
   "display_name": "Python 3 (ipykernel)",
   "language": "python",
   "name": "python3"
  },
  "language_info": {
   "codemirror_mode": {
    "name": "ipython",
    "version": 3
   },
   "file_extension": ".py",
   "mimetype": "text/x-python",
   "name": "python",
   "nbconvert_exporter": "python",
   "pygments_lexer": "ipython3",
   "version": "3.9.12"
  }
 },
 "nbformat": 4,
 "nbformat_minor": 5
}
